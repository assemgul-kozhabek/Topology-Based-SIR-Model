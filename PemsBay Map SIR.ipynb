{
 "cells": [
  {
   "cell_type": "code",
   "execution_count": 12,
   "metadata": {},
   "outputs": [],
   "source": [
    "import folium\n",
    "import pandas as pd\n",
    "import colorsys\n",
    "import numpy as np\n",
    "import matplotlib\n",
    "import branca.colormap as cm\n",
    "import matplotlib.pyplot as plt\n",
    "\n",
    "#data_path = \"H:/\"\n",
    "location_path = \"C:/Users/akozhabek/Desktop/SIR model/Colour/\"\n",
    "location = pd.read_csv(location_path + \"Graph_sensor_bay_SIR_Model_10_00.csv\")"
   ]
  },
  {
   "cell_type": "code",
   "execution_count": 13,
   "metadata": {},
   "outputs": [],
   "source": [
    "sensors = folium.map.FeatureGroup()\n",
    "\n",
    "latitudes = list(location.iloc[:,1])\n",
    "longitudes = list(location.iloc[:,2])\n",
    "labels = list(location.iloc[:,0]) # Sensor IDs\n",
    "LosAngeles_map = folium.Map(location=[lat,lng],zoom_start=12)\n",
    "\n",
    "sensorsID = folium.map.FeatureGroup()\n",
    "for lat, lng, label, in zip(latitudes, longitudes, labels):\n",
    "    folium.Marker(\n",
    "            location=[lat, lng],\n",
    "            icon=None,\n",
    "            popup=label,\n",
    "    ).add_to(LosAngeles_map)\n",
    "\n",
    "LosAngeles_map.add_child(sensors) # Adding all the incidents to map.\n",
    "LosAngeles_map.save(\"pems-experiment.html\")"
   ]
  },
  {
   "cell_type": "code",
   "execution_count": 14,
   "metadata": {},
   "outputs": [],
   "source": [
    "# define random criteria for coloring\n",
    "colors = []\n",
    "colors = []\n",
    "for state in location['state']:\n",
    "    if state == 'S':\n",
    "        colors.append('green')\n",
    "    elif state == 'I':\n",
    "        colors.append('red')\n",
    "    elif state == 'R':\n",
    "        colors.append('yellow')\n",
    "    else:\n",
    "        colors.append('black') # default color for other states"
   ]
  },
  {
   "cell_type": "code",
   "execution_count": 15,
   "metadata": {},
   "outputs": [],
   "source": [
    "latitudes = list(location.iloc[:,1])\n",
    "longitudes = list(location.iloc[:,2])\n",
    "labels = list(location.iloc[:,0]) # Sensor IDs\n",
    "LosAngeles_map = folium.Map(location=[latitudes[0], longitudes[0]],zoom_start=12)\n",
    "\n",
    "for lat, lng, label, color in zip(latitudes, longitudes, labels, colors):\n",
    "    folium.CircleMarker(\n",
    "        radius=5,\n",
    "        location=[lat, lng],\n",
    "        color=color,\n",
    "        fill=True,\n",
    "        fill_color=color,\n",
    "        fill_opacity=0.7,\n",
    "        tooltip=label\n",
    "    ).add_to(LosAngeles_map)\n",
    "    \n",
    "\n",
    "from folium import plugins\n",
    "# Define the colormap with the same colors as color_dict\n",
    "colormap = cm.StepColormap( ['#008000', '#FF0000', '#FFFF00'],  # green, red, yellow\n",
    "                          )\n",
    "colormap.caption = 'S, I, and R states'\n",
    "\n",
    "\n",
    "# Add the colorbar to the map as a legend\n",
    "LosAngeles_map.add_child(colormap)\n",
    "#LosAngeles_map.add_child(plugins.FloatImage('legend.png', bottom=5, left=5))\n",
    "\n",
    "LosAngeles_map.save(\"pems-SIR_Model_10_00.html\")"
   ]
  },
  {
   "cell_type": "code",
   "execution_count": 6,
   "metadata": {},
   "outputs": [],
   "source": []
  },
  {
   "cell_type": "code",
   "execution_count": 9,
   "metadata": {},
   "outputs": [],
   "source": []
  },
  {
   "cell_type": "code",
   "execution_count": 10,
   "metadata": {},
   "outputs": [],
   "source": []
  },
  {
   "cell_type": "code",
   "execution_count": 11,
   "metadata": {},
   "outputs": [],
   "source": []
  },
  {
   "cell_type": "code",
   "execution_count": null,
   "metadata": {},
   "outputs": [],
   "source": []
  }
 ],
 "metadata": {
  "kernelspec": {
   "display_name": "Python 3",
   "language": "python",
   "name": "python3"
  },
  "language_info": {
   "codemirror_mode": {
    "name": "ipython",
    "version": 3
   },
   "file_extension": ".py",
   "mimetype": "text/x-python",
   "name": "python",
   "nbconvert_exporter": "python",
   "pygments_lexer": "ipython3",
   "version": "3.7.4"
  }
 },
 "nbformat": 4,
 "nbformat_minor": 5
}
